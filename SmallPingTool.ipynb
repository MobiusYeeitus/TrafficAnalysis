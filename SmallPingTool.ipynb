{
 "cells": [
  {
   "cell_type": "code",
   "execution_count": 11,
   "id": "7e45080a",
   "metadata": {},
   "outputs": [],
   "source": [
    "import subprocess\n",
    "import time\n",
    "import re\n",
    "import datetime"
   ]
  },
  {
   "cell_type": "code",
   "execution_count": 12,
   "id": "7655b385",
   "metadata": {},
   "outputs": [],
   "source": [
    "IPs=[['192.168.0.1', 'Wifi'],\n",
    "     ['192.168.1.1', 'ONU'],\n",
    "     ['192.168.0.56', 'Repeater'],\n",
    "     ['172.16.109.193', 'Gateway'],\n",
    "     ['172.16.0.1', 'Old DNS'],\n",
    "     ['202.171.240.26', 'New DNS'],\n",
    "     ['8.8.8.8', 'Google DNS'],\n",
    "     ['1.1.1.1', 'Cloudflare DNS'],\n",
    "     ['40.126.17.132', 'Microsoft Chennai'],\n",
    "     ['142.250.196.46', 'Google Chennai'],\n",
    "     ['155.133.224.2', 'Valve Maharastra'],\n",
    "     ['202.78.239.186', 'Alliance Kolkata'],\n",
    "     ['57.144.141.32', 'Facebook Kolkata'],\n",
    "     ['72.25.64.32', 'NVIDIA California'],\n",
    "     ['140.82.112.26', 'GitHub California'],\n",
    "     ['20.198.167.116', 'MS-AZC Singapore'],\n",
    "     ['45.129.229.1','iCDN Indonesia']]\n",
    "count=10\n",
    "timeout=1000\n",
    "packet_size=128"
   ]
  },
  {
   "cell_type": "code",
   "execution_count": 13,
   "id": "7cad8b02",
   "metadata": {},
   "outputs": [],
   "source": [
    "processes=[]\n",
    "for ip in IPs:\n",
    "    processes.append(subprocess.Popen([\"ping\",ip[0],\"-n\",str(count),\"-w\",str(timeout),\"-l\",str(packet_size)],\n",
    "                                      stdout=subprocess.PIPE,text=True,shell=True))\n",
    "time.sleep(count*(timeout/1000)*(1+len(IPs)*0.05))\n",
    "outputs=[]\n",
    "for process in processes:\n",
    "    outputs.append(process.stdout)"
   ]
  },
  {
   "cell_type": "code",
   "execution_count": 14,
   "id": "ceca7c10",
   "metadata": {},
   "outputs": [],
   "source": [
    "summary=[datetime.datetime.now().strftime(\"%d-%m-%Y %H:%M:%S\")]\n",
    "for output in outputs:\n",
    "    ip=IPs[outputs.index(output)]\n",
    "    temp=f'Pinged {ip[0].ljust(15)} [{ip[1].center(20)}] w/ [P{packet_size}] Avg='\n",
    "    loss=\"0%\"\n",
    "    avg=\"N/A\"\n",
    "    for line in output:\n",
    "        string=line.strip()\n",
    "        \n",
    "        if re.search('loss',string):\n",
    "            loss=string[string.find('(')+1:string.find(')')-5]\n",
    "        if re.search('Destination host unreachable',string):\n",
    "            avg=\"DHU\"\n",
    "        elif re.search('Request timed out',string):\n",
    "            avg=\"RTO\"\n",
    "        elif re.search('General failure',string):\n",
    "            avg=\"GF\"\n",
    "        elif re.search('Average',string):\n",
    "            avg=string[string.find('Average = ')+10:]\n",
    "    temp+=f'{avg.ljust(5)} Loss={loss.ljust(4)}'\n",
    "    summary.append(temp)"
   ]
  },
  {
   "cell_type": "code",
   "execution_count": 15,
   "id": "c9a150a5",
   "metadata": {},
   "outputs": [
    {
     "data": {
      "text/plain": [
       "['11-04-2025 07:35:14',\n",
       " 'Pinged 192.168.0.1     [        Wifi        ] w/ [P128] Avg=0ms   Loss=0%  ',\n",
       " 'Pinged 192.168.1.1     [        ONU         ] w/ [P128] Avg=0ms   Loss=0%  ',\n",
       " 'Pinged 192.168.0.56    [      Repeater      ] w/ [P128] Avg=1ms   Loss=0%  ',\n",
       " 'Pinged 172.16.109.193  [      Gateway       ] w/ [P128] Avg=1ms   Loss=0%  ',\n",
       " 'Pinged 172.16.0.1      [      Old DNS       ] w/ [P128] Avg=1ms   Loss=0%  ',\n",
       " 'Pinged 202.171.240.26  [      New DNS       ] w/ [P128] Avg=RTO   Loss=100%',\n",
       " 'Pinged 8.8.8.8         [     Google DNS     ] w/ [P128] Avg=32ms  Loss=0%  ',\n",
       " 'Pinged 1.1.1.1         [   Cloudflare DNS   ] w/ [P128] Avg=36ms  Loss=0%  ',\n",
       " 'Pinged 40.126.17.132   [ Microsoft Chennai  ] w/ [P128] Avg=RTO   Loss=100%',\n",
       " 'Pinged 142.250.196.46  [   Google Chennai   ] w/ [P128] Avg=42ms  Loss=0%  ',\n",
       " 'Pinged 155.133.224.2   [  Valve Maharastra  ] w/ [P128] Avg=38ms  Loss=0%  ',\n",
       " 'Pinged 202.78.239.186  [  Alliance Kolkata  ] w/ [P128] Avg=2ms   Loss=0%  ',\n",
       " 'Pinged 57.144.141.32   [  Facebook Kolkata  ] w/ [P128] Avg=2ms   Loss=0%  ',\n",
       " 'Pinged 72.25.64.32     [ NVIDIA California  ] w/ [P128] Avg=305ms Loss=0%  ',\n",
       " 'Pinged 140.82.112.26   [ GitHub California  ] w/ [P128] Avg=274ms Loss=0%  ',\n",
       " 'Pinged 20.198.167.116  [  MS-AZC Singapore  ] w/ [P128] Avg=RTO   Loss=100%',\n",
       " 'Pinged 45.129.229.1    [   iCDN Indonesia   ] w/ [P128] Avg=70ms  Loss=0%  ']"
      ]
     },
     "execution_count": 15,
     "metadata": {},
     "output_type": "execute_result"
    }
   ],
   "source": [
    "summary"
   ]
  }
 ],
 "metadata": {
  "kernelspec": {
   "display_name": "Python 3",
   "language": "python",
   "name": "python3"
  },
  "language_info": {
   "codemirror_mode": {
    "name": "ipython",
    "version": 3
   },
   "file_extension": ".py",
   "mimetype": "text/x-python",
   "name": "python",
   "nbconvert_exporter": "python",
   "pygments_lexer": "ipython3",
   "version": "3.13.2"
  }
 },
 "nbformat": 4,
 "nbformat_minor": 5
}
