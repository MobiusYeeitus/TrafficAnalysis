{
 "cells": [
  {
   "cell_type": "code",
   "execution_count": 86,
   "id": "7e45080a",
   "metadata": {},
   "outputs": [],
   "source": [
    "import subprocess\n",
    "import time\n",
    "import re"
   ]
  },
  {
   "cell_type": "code",
   "execution_count": 87,
   "id": "7655b385",
   "metadata": {},
   "outputs": [],
   "source": [
    "IPs=[\"192.168.0.1\",\"192.168.1.1\",\"172.16.0.1\",\"172.16.109.193\",\"8.8.8.8\",\"1.1.1.1\"]\n",
    "count=10\n",
    "timeout=1000"
   ]
  },
  {
   "cell_type": "code",
   "execution_count": 88,
   "id": "7cad8b02",
   "metadata": {},
   "outputs": [],
   "source": [
    "processes=[]\n",
    "for ip in IPs:\n",
    "    processes.append(subprocess.Popen([\"ping\",ip,\"-n\",str(count),\"-w\",str(timeout)],stdout=subprocess.PIPE,text=True,shell=True))\n",
    "time.sleep(count*timeout/1000+1)\n",
    "outputs=[]\n",
    "for process in processes:\n",
    "    outputs.append(process.stdout)"
   ]
  },
  {
   "cell_type": "code",
   "execution_count": 89,
   "id": "ceca7c10",
   "metadata": {},
   "outputs": [],
   "source": [
    "summary=[]\n",
    "attributes=[\"loss\",\"Average\"]\n",
    "for output in outputs:\n",
    "    temp=\"\"\n",
    "    for line in output:\n",
    "        # print(line.strip())\n",
    "        if re.search('Pinging',line.strip()):\n",
    "            temp+=line.strip()[line.strip().find('Pinging'):line.strip().find(' with')]+\" \"\n",
    "        for attribute in attributes:\n",
    "            if re.search(attribute,line.strip()):\n",
    "                if attribute==\"loss\":\n",
    "                    temp+=line.strip()[line.strip().find('(')+1:line.strip().find(')')]+\" \"\n",
    "                elif attribute==\"Average\":\n",
    "                    temp+=line.strip()[line.strip().find('Average ='):]\n",
    "    if temp!=\"\":\n",
    "        summary.append(temp)"
   ]
  },
  {
   "cell_type": "code",
   "execution_count": 90,
   "id": "c9a150a5",
   "metadata": {},
   "outputs": [
    {
     "data": {
      "text/plain": [
       "['Pinging 192.168.0.1 0% loss Average = 0ms',\n",
       " 'Pinging 192.168.1.1 0% loss Average = 0ms',\n",
       " 'Pinging 172.16.0.1 30% loss Average = 56ms',\n",
       " 'Pinging 172.16.109.193 40% loss Average = 56ms',\n",
       " 'Pinging 8.8.8.8 10% loss Average = 97ms',\n",
       " 'Pinging 1.1.1.1 20% loss Average = 91ms']"
      ]
     },
     "execution_count": 90,
     "metadata": {},
     "output_type": "execute_result"
    }
   ],
   "source": [
    "summary"
   ]
  }
 ],
 "metadata": {
  "kernelspec": {
   "display_name": "Python 3",
   "language": "python",
   "name": "python3"
  },
  "language_info": {
   "codemirror_mode": {
    "name": "ipython",
    "version": 3
   },
   "file_extension": ".py",
   "mimetype": "text/x-python",
   "name": "python",
   "nbconvert_exporter": "python",
   "pygments_lexer": "ipython3",
   "version": "3.13.2"
  }
 },
 "nbformat": 4,
 "nbformat_minor": 5
}
