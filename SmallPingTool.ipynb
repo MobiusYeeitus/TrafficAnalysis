{
 "cells": [
  {
   "cell_type": "code",
   "execution_count": 23,
   "id": "7e45080a",
   "metadata": {},
   "outputs": [],
   "source": [
    "import subprocess\n",
    "import time\n",
    "import re\n",
    "import datetime"
   ]
  },
  {
   "cell_type": "code",
   "execution_count": 24,
   "id": "7655b385",
   "metadata": {},
   "outputs": [],
   "source": [
    "IPs=[['192.168.0.1', 'Wifi'],\n",
    "     ['192.168.1.1', 'ONU'],\n",
    "     ['192.168.0.56', 'Repeater'],\n",
    "     ['172.16.109.193', 'Gateway'],\n",
    "     ['172.16.0.1', 'Old DNS'],\n",
    "     ['203.171.240.26', 'New DNS'],\n",
    "     ['1.1.1.1', 'Cloudflare DNS'],\n",
    "     ['8.8.8.8', 'Google DNS'],\n",
    "     ['202.78.239.186', 'Alliance Kolkata'],\n",
    "     ['57.144.141.32', 'Facebook Kolkata'],\n",
    "     ['23.212.164.233', 'Akamai Kolkata'],\n",
    "     ['155.133.224.2', 'Valve Mumbai'],\n",
    "     ['40.126.17.132', 'Microsoft Chennai'],\n",
    "     ['142.250.196.46', 'Google Chennai'],\n",
    "     ['20.198.167.116', 'MS-AZC Singapore'],\n",
    "     ['43.174.32.194', 'Ace. Pvt. Singapore'],\n",
    "     ['45.129.229.1', 'iCDN Indonesia'],\n",
    "     ['66.22.220.54', 'Discord Singapore?'],\n",
    "     ['20.24.125.47', 'MS-AZC Hong Kong'],\n",
    "     ['20.201.214.0', 'MS-AZC South Korea'],\n",
    "     ['47.74.57.194', 'Alibaba Tokyo'],\n",
    "     ['4.175.87.113', 'MS-AZC Netherlands'],\n",
    "     ['66.22.198.50', 'Discord Netherlands'],\n",
    "     ['151.101.38.250', 'Fastly Netherlands'],\n",
    "     ['146.75.122.172', 'Fastly Germany'],\n",
    "     ['78.47.141.88', 'Hetzner Germany'],\n",
    "     ['40.69.42.241', 'MS-AZC Ireland'],\n",
    "     ['65.108.147.128', 'Hetzner Finland'],\n",
    "     ['20.242.71.86', 'MS-AZC US East'],\n",
    "     ['20.99.128.106', 'MS-AZC US West'],\n",
    "     ['52.109.136.6', 'MS-AZC US West Central'],\n",
    "     ['72.25.64.32', 'NVIDIA California'],\n",
    "     ['140.82.112.26', 'GitHub California']]\n",
    "count=10\n",
    "timeout=1000\n",
    "packet_size=32"
   ]
  },
  {
   "cell_type": "code",
   "execution_count": 25,
   "id": "7cad8b02",
   "metadata": {},
   "outputs": [],
   "source": [
    "processes=[]\n",
    "for ip in IPs:\n",
    "    processes.append(subprocess.Popen([\"ping\",ip[0],\"-n\",str(count),\"-w\",str(timeout),\"-l\",str(packet_size)],\n",
    "                                      stdout=subprocess.PIPE,text=True,shell=True))\n",
    "time.sleep(count*(timeout/1000)*(1+len(IPs)*0.04))\n",
    "outputs=[]\n",
    "for process in processes:\n",
    "    outputs.append(process.stdout)"
   ]
  },
  {
   "cell_type": "code",
   "execution_count": 26,
   "id": "ceca7c10",
   "metadata": {},
   "outputs": [],
   "source": [
    "summary=[datetime.datetime.now().strftime(\"%d-%m-%Y %H:%M:%S\")]\n",
    "for output in outputs:\n",
    "    ip=IPs[outputs.index(output)]\n",
    "    temp=f'Pinged {ip[0].ljust(15)} [{ip[1].center(24)}] w/ [P{packet_size}] Avg='\n",
    "    loss=\"0%\"\n",
    "    avg=\"N/A\"\n",
    "    for line in output:\n",
    "        string=line.strip()\n",
    "        if re.search('loss',string):\n",
    "            loss=string[string.find('(')+1:string.find(')')-5]\n",
    "        if re.search('Destination host unreachable',string):\n",
    "            avg=\"DHU\"\n",
    "        elif re.search('Request timed out',string):\n",
    "            avg=\"RTO\"\n",
    "        elif re.search('General failure',string):\n",
    "            avg=\"GF\"\n",
    "        elif re.search('Average',string):\n",
    "            avg=string[string.find('Average = ')+10:]\n",
    "    temp+=f'{avg.ljust(5)} Loss={loss.ljust(4)}'\n",
    "    summary.append(temp)"
   ]
  },
  {
   "cell_type": "code",
   "execution_count": 27,
   "id": "c9a150a5",
   "metadata": {},
   "outputs": [
    {
     "data": {
      "text/plain": [
       "['17-04-2025 17:09:00',\n",
       " 'Pinged 192.168.0.1     [          Wifi          ] w/ [P32] Avg=0ms   Loss=0%  ',\n",
       " 'Pinged 192.168.1.1     [          ONU           ] w/ [P32] Avg=0ms   Loss=0%  ',\n",
       " 'Pinged 192.168.0.56    [        Repeater        ] w/ [P32] Avg=2ms   Loss=0%  ',\n",
       " 'Pinged 172.16.109.193  [        Gateway         ] w/ [P32] Avg=2ms   Loss=0%  ',\n",
       " 'Pinged 172.16.0.1      [        Old DNS         ] w/ [P32] Avg=2ms   Loss=0%  ',\n",
       " 'Pinged 203.171.240.26  [        New DNS         ] w/ [P32] Avg=2ms   Loss=0%  ',\n",
       " 'Pinged 1.1.1.1         [     Cloudflare DNS     ] w/ [P32] Avg=39ms  Loss=0%  ',\n",
       " 'Pinged 8.8.8.8         [       Google DNS       ] w/ [P32] Avg=32ms  Loss=0%  ',\n",
       " 'Pinged 202.78.239.186  [    Alliance Kolkata    ] w/ [P32] Avg=2ms   Loss=0%  ',\n",
       " 'Pinged 57.144.141.32   [    Facebook Kolkata    ] w/ [P32] Avg=2ms   Loss=0%  ',\n",
       " 'Pinged 23.212.164.233  [     Akamai Kolkata     ] w/ [P32] Avg=2ms   Loss=0%  ',\n",
       " 'Pinged 155.133.224.2   [      Valve Mumbai      ] w/ [P32] Avg=39ms  Loss=0%  ',\n",
       " 'Pinged 40.126.17.132   [   Microsoft Chennai    ] w/ [P32] Avg=32ms  Loss=0%  ',\n",
       " 'Pinged 142.250.196.46  [     Google Chennai     ] w/ [P32] Avg=36ms  Loss=0%  ',\n",
       " 'Pinged 20.198.167.116  [    MS-AZC Singapore    ] w/ [P32] Avg=65ms  Loss=0%  ',\n",
       " 'Pinged 43.174.32.194   [  Ace. Pvt. Singapore   ] w/ [P32] Avg=74ms  Loss=0%  ',\n",
       " 'Pinged 45.129.229.1    [     iCDN Indonesia     ] w/ [P32] Avg=77ms  Loss=0%  ',\n",
       " 'Pinged 66.22.220.54    [   Discord Singapore?   ] w/ [P32] Avg=132ms Loss=0%  ',\n",
       " 'Pinged 20.24.125.47    [    MS-AZC Hong Kong    ] w/ [P32] Avg=95ms  Loss=0%  ',\n",
       " 'Pinged 20.201.214.0    [   MS-AZC South Korea   ] w/ [P32] Avg=123ms Loss=0%  ',\n",
       " 'Pinged 47.74.57.194    [     Alibaba Tokyo      ] w/ [P32] Avg=150ms Loss=0%  ',\n",
       " 'Pinged 4.175.87.113    [   MS-AZC Netherlands   ] w/ [P32] Avg=171ms Loss=0%  ',\n",
       " 'Pinged 66.22.198.50    [  Discord Netherlands   ] w/ [P32] Avg=222ms Loss=0%  ',\n",
       " 'Pinged 151.101.38.250  [   Fastly Netherlands   ] w/ [P32] Avg=206ms Loss=0%  ',\n",
       " 'Pinged 146.75.122.172  [     Fastly Germany     ] w/ [P32] Avg=223ms Loss=0%  ',\n",
       " 'Pinged 78.47.141.88    [    Hetzner Germany     ] w/ [P32] Avg=177ms Loss=0%  ',\n",
       " 'Pinged 40.69.42.241    [     MS-AZC Ireland     ] w/ [P32] Avg=173ms Loss=0%  ',\n",
       " 'Pinged 65.108.147.128  [    Hetzner Finland     ] w/ [P32] Avg=194ms Loss=0%  ',\n",
       " 'Pinged 20.242.71.86    [     MS-AZC US East     ] w/ [P32] Avg=232ms Loss=0%  ',\n",
       " 'Pinged 20.99.128.106   [     MS-AZC US West     ] w/ [P32] Avg=224ms Loss=0%  ',\n",
       " 'Pinged 52.109.136.6    [ MS-AZC US West Central ] w/ [P32] Avg=245ms Loss=0%  ',\n",
       " 'Pinged 72.25.64.32     [   NVIDIA California    ] w/ [P32] Avg=307ms Loss=0%  ',\n",
       " 'Pinged 140.82.112.26   [   GitHub California    ] w/ [P32] Avg=258ms Loss=0%  ']"
      ]
     },
     "execution_count": 27,
     "metadata": {},
     "output_type": "execute_result"
    }
   ],
   "source": [
    "summary"
   ]
  }
 ],
 "metadata": {
  "kernelspec": {
   "display_name": "Python 3",
   "language": "python",
   "name": "python3"
  },
  "language_info": {
   "codemirror_mode": {
    "name": "ipython",
    "version": 3
   },
   "file_extension": ".py",
   "mimetype": "text/x-python",
   "name": "python",
   "nbconvert_exporter": "python",
   "pygments_lexer": "ipython3",
   "version": "3.13.2"
  }
 },
 "nbformat": 4,
 "nbformat_minor": 5
}
