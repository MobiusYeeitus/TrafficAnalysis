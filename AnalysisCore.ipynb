{
 "cells": [
  {
   "cell_type": "markdown",
   "metadata": {},
   "source": [
    "##### System Libraries"
   ]
  },
  {
   "cell_type": "code",
   "execution_count": 81,
   "metadata": {},
   "outputs": [],
   "source": [
    "import os\n",
    "import subprocess\n",
    "import logging"
   ]
  },
  {
   "cell_type": "markdown",
   "metadata": {},
   "source": [
    "##### Required Libraries"
   ]
  },
  {
   "cell_type": "code",
   "execution_count": 82,
   "metadata": {},
   "outputs": [],
   "source": [
    "try:\n",
    "    import scapy\n",
    "except ModuleNotFoundError:\n",
    "    os.system('pip install scapy')\n",
    "    import scapy\n",
    "try:\n",
    "    import tqdm\n",
    "except ModuleNotFoundError:\n",
    "    os.system('pip install tqdm')\n",
    "    import tqdm\n",
    "from scapy.all import rdpcap\n",
    "from tqdm import trange,tqdm"
   ]
  },
  {
   "cell_type": "markdown",
   "metadata": {},
   "source": [
    "### Analyzer\n",
    "\n",
    "#### Minor Function Breakdowns\n",
    "---\n",
    "##### Generate_Logger\n",
    "Generates a logger with default parameters for logging critical components and debugging\n",
    "##### List Initializer\n",
    "Helper function to shorten and simplify initializing and re-initializing lists with values\n",
    "##### PCAP_Input\n",
    "Takes a pcap file as input and returns and stores it in memory"
   ]
  },
  {
   "cell_type": "code",
   "execution_count": 83,
   "metadata": {},
   "outputs": [],
   "source": [
    "class Analyzer:\n",
    "    if True:\n",
    "         #Initialization of the logger\n",
    "        logger=logging.getLogger\n",
    "        stored_logger_level=[logging.DEBUG]\n",
    "\n",
    "        stored_pcap_data=[]\n",
    "    def __init__(self):\n",
    "        if True:\n",
    "            self.logger=self.Generate_Logger(filename='AnalysisCore.log')\n",
    "    def Generate_Logger(self,filename='default_logger_name.log'): \n",
    "        logging.basicConfig(filename=filename,format='%(asctime)s - %(levelname)s: %(message)s',\n",
    "                            datefmt='%Y-%m-%d %H:%M:%S',filemode='w',level=self.stored_logger_level[0])\n",
    "        logger=logging.getLogger()\n",
    "        logger.debug('Logger initialized.')\n",
    "        return logger\n",
    "    def List_Initializer(self,input_list,input_param):\n",
    "        input_list.clear()\n",
    "        input_list.append(input_param)\n",
    "    def PCAP_Input(self,path):\n",
    "        self.logger.info('Reading file from path, '+path)\n",
    "        pcap_data=rdpcap(path)\n",
    "        self.logger.debug('Stored '+path+' data in stored_pcap_data.')\n",
    "        self.List_Initializer(self.stored_pcap_data,pcap_data)\n",
    "        return pcap_data"
   ]
  },
  {
   "cell_type": "code",
   "execution_count": 88,
   "metadata": {},
   "outputs": [
    {
     "data": {
      "text/plain": [
       "<30S-Down-Spo-Stm-Dis--Up-Dis.pcap: TCP:221679 UDP:1458 ICMP:0 Other:1>"
      ]
     },
     "execution_count": 88,
     "metadata": {},
     "output_type": "execute_result"
    }
   ],
   "source": [
    "A=Analyzer()\n",
    "A.PCAP_Input('PCAP Data/30S-Down-Spo-Stm-Dis--Up-Dis.pcap')\n"
   ]
  },
  {
   "cell_type": "code",
   "execution_count": 89,
   "metadata": {},
   "outputs": [
    {
     "name": "stdout",
     "output_type": "stream",
     "text": [
      "192.168.0.128\n",
      "155.133.224.2\n",
      "192.168.0.128\n",
      "192.168.0.128\n",
      "155.133.224.2\n",
      "192.168.0.128\n",
      "192.168.0.128\n",
      "155.133.224.2\n",
      "192.168.0.128\n",
      "192.168.0.128\n"
     ]
    }
   ],
   "source": [
    "for packet in A.stored_pcap_data[0][:10]:\n",
    "    print(packet.payload.dst)"
   ]
  },
  {
   "cell_type": "code",
   "execution_count": null,
   "metadata": {},
   "outputs": [],
   "source": []
  },
  {
   "cell_type": "code",
   "execution_count": 90,
   "metadata": {},
   "outputs": [
    {
     "data": {
      "text/plain": [
       "['155.133.224.2',\n",
       " '23.212.164.219',\n",
       " '18.211.21.156',\n",
       " '162.159.138.234',\n",
       " '155.133.224.10',\n",
       " '162.159.136.234',\n",
       " '35.186.224.22',\n",
       " '35.213.130.189',\n",
       " '13.107.246.58',\n",
       " '155.133.225.21',\n",
       " '20.207.73.85',\n",
       " '57.144.141.32',\n",
       " '35.186.224.24',\n",
       " '140.82.112.26',\n",
       " '239.255.255.250',\n",
       " '72.25.64.32',\n",
       " '256.256.256.256',\n",
       " '35.186.224.40',\n",
       " '192.168.0.1',\n",
       " '51.21.215.65',\n",
       " '13.107.5.93',\n",
       " '104.199.241.202',\n",
       " '192.168.0.255',\n",
       " '35.186.224.45',\n",
       " '162.159.128.233',\n",
       " '140.82.113.21',\n",
       " '224.0.0.251',\n",
       " '52.168.117.171']"
      ]
     },
     "execution_count": 90,
     "metadata": {},
     "output_type": "execute_result"
    }
   ],
   "source": [
    "unique_ips=[]\n",
    "self_ips=['192.168.0.128']\n",
    "blocked_ips=[]\n",
    "blocked_ips=self_ips\n",
    "B=A.stored_pcap_data[0]\n",
    "\n",
    "for packet in B:\n",
    "    flag=0\n",
    "    try:\n",
    "        for ip in blocked_ips:\n",
    "            if packet.payload.dst==ip:\n",
    "                flag=1\n",
    "        if flag==0:\n",
    "            blocked_ips.append(packet.payload.dst)\n",
    "            unique_ips.append(packet.payload.dst)\n",
    "    except AttributeError:\n",
    "        for ip in blocked_ips:\n",
    "            if ip=='256.256.256.256':\n",
    "                flag=1\n",
    "        if flag==0:\n",
    "            unique_ips.append('256.256.256.256')\n",
    "unique_ips"
   ]
  },
  {
   "cell_type": "code",
   "execution_count": 91,
   "metadata": {},
   "outputs": [
    {
     "data": {
      "text/plain": [
       "'192.168.0.128'"
      ]
     },
     "execution_count": 91,
     "metadata": {},
     "output_type": "execute_result"
    }
   ],
   "source": [
    "A.stored_pcap_data[0][2].payload.dst"
   ]
  }
 ],
 "metadata": {
  "kernelspec": {
   "display_name": "Python 3",
   "language": "python",
   "name": "python3"
  },
  "language_info": {
   "codemirror_mode": {
    "name": "ipython",
    "version": 3
   },
   "file_extension": ".py",
   "mimetype": "text/x-python",
   "name": "python",
   "nbconvert_exporter": "python",
   "pygments_lexer": "ipython3",
   "version": "3.13.2"
  }
 },
 "nbformat": 4,
 "nbformat_minor": 2
}
