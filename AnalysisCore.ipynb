{
 "cells": [
  {
   "cell_type": "markdown",
   "metadata": {},
   "source": [
    "##### System Libraries"
   ]
  },
  {
   "cell_type": "code",
   "execution_count": 1,
   "metadata": {},
   "outputs": [],
   "source": [
    "import os\n",
    "import subprocess\n",
    "import logging\n",
    "import re\n",
    "import copy\n",
    "import time"
   ]
  },
  {
   "cell_type": "markdown",
   "metadata": {},
   "source": [
    "##### Required Libraries"
   ]
  },
  {
   "cell_type": "code",
   "execution_count": 2,
   "metadata": {},
   "outputs": [],
   "source": [
    "try:\n",
    "    import scapy\n",
    "except ModuleNotFoundError:\n",
    "    os.system('pip install scapy')\n",
    "    import scapy\n",
    "try:\n",
    "    import tqdm\n",
    "except ModuleNotFoundError:\n",
    "    os.system('pip install tqdm')\n",
    "    import tqdm\n",
    "try:\n",
    "    import requests\n",
    "except ModuleNotFoundError:\n",
    "    os.system('pip install requests')\n",
    "    import requests\n",
    "logging.getLogger(\"requests\").setLevel(logging.INFO)\n",
    "logging.getLogger(\"urllib3\").setLevel(logging.INFO)\n",
    "\n",
    "import scapy.plist\n",
    "from scapy.all import rdpcap\n",
    "from tqdm import trange,tqdm"
   ]
  },
  {
   "cell_type": "markdown",
   "metadata": {},
   "source": [
    "### Analyzer\n",
    "\n",
    "#### Minor Function Breakdowns\n",
    "---\n",
    "##### Generate_Logger\n",
    "Generates a logger with default parameters for logging critical components and debugging\n",
    "##### Generate Self IPs\n",
    "Generates a list of IPs assigned to current device according to a protocol list.\n",
    "##### List Initializer [V2]\n",
    "Helper function to shorten and simplify initializing and re-initializing lists with values\n",
    "##### PCAP_Input\n",
    "Takes a pcap file as input and returns and stores it in memory\n",
    "##### Generate Unique IPs\n",
    "Generates a list of unique IPs found in the PCAP data (excluding self IPs)"
   ]
  },
  {
   "cell_type": "code",
   "execution_count": 3,
   "metadata": {},
   "outputs": [],
   "source": [
    "\n",
    "class Analyzer:\n",
    "    if True:\n",
    "        #Initialization of the logger\n",
    "        logger=logging.getLogger\n",
    "        stored_logger_level=[logging.DEBUG]\n",
    "        stored_protocol_list=[\"IPv4\",\"IPv6\",\"Gateway\"]\n",
    "\n",
    "        stored_pcap_data=[]\n",
    "\n",
    "        stored_self_ips=[]\n",
    "        stored_unique_ips=[]\n",
    "        stored_blocked_ips=[]\n",
    "\n",
    "        stored_queried_ips=[]\n",
    "    def __init__(self,path,protocol_list=stored_protocol_list):\n",
    "        if True:\n",
    "            self.logger=self.Generate_Logger(filename='AnalysisCore.log')\n",
    "            logging.getLogger(\"requests\").setLevel(logging.INFO)\n",
    "            self.Generate_Self_IPs(protocol_list=protocol_list)\n",
    "            self.PCAP_Input(path)\n",
    "            self.Generate_Unique_IPs()\n",
    "    def Generate_Logger(self,filename='default_logger_name.log'): \n",
    "        logging.basicConfig(filename=filename,format='%(asctime)s - %(levelname)s: %(message)s',\n",
    "                            datefmt='%Y-%m-%d %H:%M:%S',filemode='w',level=self.stored_logger_level[0])\n",
    "        logger=logging.getLogger()\n",
    "        logger.debug('Logger initialized.')\n",
    "        return logger\n",
    "    def List_Initializer(self,input_list,input_param):\n",
    "        if isinstance(input_param,list) or isinstance(input_param,scapy.plist.PacketList):\n",
    "            input_list.clear()\n",
    "            for item in input_param:\n",
    "                input_list.append(item)\n",
    "        else:\n",
    "            input_list.clear()\n",
    "            input_list.append(input_param)\n",
    "    def Generate_Self_IPs(self,protocol_list=stored_protocol_list):\n",
    "        self.logger.info(\"Generating self IPs with protocols, \"+str(protocol_list))\n",
    "        self_ips=[]\n",
    "        process=subprocess.Popen(['ipconfig'],stdout=subprocess.PIPE,text=True,shell=True)\n",
    "        for line in process.stdout:\n",
    "            for protocol in protocol_list:\n",
    "                if re.search(protocol,line.strip()):\n",
    "                    self_ips.append(line.strip()[line.strip().find(':')+2:])\n",
    "        self.List_Initializer(self.stored_self_ips,self_ips)\n",
    "        self.logger.debug('Stored self IPs in stored_self_ips '+str(self_ips))\n",
    "        return self_ips\n",
    "    def Query_IP(self,ip):\n",
    "        self.logger.debug('Querying for IP '+ip)\n",
    "        response=requests.get(f\"http://ip-api.com/json/{ip}\")\n",
    "        data=response.json()\n",
    "        return data\n",
    "    def PCAP_Input(self,path):\n",
    "        self.logger.info('Reading file from path, '+path)\n",
    "        print('Reading PCAP Data.')\n",
    "        pcap_data=rdpcap(path)\n",
    "        self.logger.debug('Stored '+path+' data in stored_pcap_data.')\n",
    "        self.List_Initializer(self.stored_pcap_data,pcap_data)\n",
    "        return pcap_data\n",
    "    def Generate_Unique_IPs(self,pcap_data=stored_pcap_data,self_ips=stored_self_ips):\n",
    "        self.logger.info('Extracting Unique IPs from PCAP Data.')\n",
    "        unique_ips=[]\n",
    "        blocked_ips=self_ips.copy()\n",
    "        self.logger.debug(str(self_ips.copy()))\n",
    "        packets=pcap_data\n",
    "        for packet in tqdm(packets,desc='Analyzing packets for unique IPs'):\n",
    "            flag=0\n",
    "            try:\n",
    "                for ip in blocked_ips:\n",
    "                    if packet.payload.dst==ip:\n",
    "                        flag=1\n",
    "                if flag==0:\n",
    "                    blocked_ips.append(packet.payload.dst)\n",
    "                    unique_ips.append(packet.payload.dst)\n",
    "            except AttributeError:\n",
    "                broadcast_temp='256.256.256.256'\n",
    "                for ip in blocked_ips:\n",
    "                    if ip==broadcast_temp:\n",
    "                        flag=1\n",
    "                if flag==0:\n",
    "                    blocked_ips.append(broadcast_temp)\n",
    "                    unique_ips.append(broadcast_temp)\n",
    "        self.List_Initializer(self.stored_unique_ips,unique_ips)\n",
    "        self.logger.debug('Stored unique IPs in stored_unique_ips.')\n",
    "        return unique_ips\n",
    "    def Query_Unique_IPs(self,unique_ips=stored_unique_ips,amount=4):\n",
    "        self.logger.info(f'Querying unique IPs.')\n",
    "        queried_unique_ips=[]\n",
    "        for ip in unique_ips[:min(amount,45)]:\n",
    "            response=self.Query_IP(ip)\n",
    "            queried_unique_ips.append(response)\n",
    "            self.logger.debug(f'Stored query in stored_queried_unique_ips.')\n",
    "            self.List_Initializer(self.stored_queried_ips,queried_unique_ips)\n",
    "        return queried_unique_ips"
   ]
  },
  {
   "cell_type": "code",
   "execution_count": 4,
   "metadata": {},
   "outputs": [
    {
     "name": "stdout",
     "output_type": "stream",
     "text": [
      "Reading PCAP Data.\n"
     ]
    },
    {
     "name": "stderr",
     "output_type": "stream",
     "text": [
      "Analyzing packets for unique IPs: 100%|██████████| 10839/10839 [00:00<00:00, 26113.72it/s]\n"
     ]
    }
   ],
   "source": [
    "A=Analyzer('PCAP Data/720S-Down-Spo-Misc-Idling.pcap')"
   ]
  },
  {
   "cell_type": "code",
   "execution_count": 5,
   "metadata": {},
   "outputs": [
    {
     "data": {
      "text/plain": [
       "[{'status': 'success',\n",
       "  'country': 'Canada',\n",
       "  'countryCode': 'CA',\n",
       "  'region': 'ON',\n",
       "  'regionName': 'Ontario',\n",
       "  'city': 'Toronto',\n",
       "  'zip': 'M5A',\n",
       "  'lat': 43.6532,\n",
       "  'lon': -79.3832,\n",
       "  'timezone': 'America/Toronto',\n",
       "  'isp': 'Cloudflare, Inc.',\n",
       "  'org': 'Cloudflare, Inc.',\n",
       "  'as': 'AS13335 Cloudflare, Inc.',\n",
       "  'query': '162.159.134.234'},\n",
       " {'status': 'success',\n",
       "  'country': 'United States',\n",
       "  'countryCode': 'US',\n",
       "  'region': 'MO',\n",
       "  'regionName': 'Missouri',\n",
       "  'city': 'Kansas City',\n",
       "  'zip': '',\n",
       "  'lat': 39.0997,\n",
       "  'lon': -94.5785,\n",
       "  'timezone': 'America/Chicago',\n",
       "  'isp': 'Google LLC',\n",
       "  'org': 'Google Cloud',\n",
       "  'as': 'AS15169 Google LLC',\n",
       "  'query': '35.186.224.45'},\n",
       " {'status': 'fail', 'message': 'reserved range', 'query': '239.255.255.250'},\n",
       " {'status': 'success',\n",
       "  'country': 'Sweden',\n",
       "  'countryCode': 'SE',\n",
       "  'region': 'AB',\n",
       "  'regionName': 'Stockholm',\n",
       "  'city': 'Stockholm',\n",
       "  'zip': '100 05',\n",
       "  'lat': 59.3293,\n",
       "  'lon': 18.0686,\n",
       "  'timezone': 'Europe/Stockholm',\n",
       "  'isp': 'Amazon.com, Inc.',\n",
       "  'org': 'AWS EC2 (eu-north-1)',\n",
       "  'as': 'AS16509 Amazon.com, Inc.',\n",
       "  'query': '51.21.215.65'}]"
      ]
     },
     "execution_count": 5,
     "metadata": {},
     "output_type": "execute_result"
    }
   ],
   "source": [
    "A.Query_Unique_IPs()"
   ]
  },
  {
   "cell_type": "code",
   "execution_count": 6,
   "metadata": {},
   "outputs": [
    {
     "data": {
      "text/plain": [
       "{'status': 'success',\n",
       " 'country': 'Canada',\n",
       " 'countryCode': 'CA',\n",
       " 'region': 'ON',\n",
       " 'regionName': 'Ontario',\n",
       " 'city': 'Toronto',\n",
       " 'zip': 'M5A',\n",
       " 'lat': 43.6532,\n",
       " 'lon': -79.3832,\n",
       " 'timezone': 'America/Toronto',\n",
       " 'isp': 'Cloudflare, Inc.',\n",
       " 'org': 'Cloudflare, Inc.',\n",
       " 'as': 'AS13335 Cloudflare, Inc.',\n",
       " 'query': '162.159.134.234'}"
      ]
     },
     "execution_count": 6,
     "metadata": {},
     "output_type": "execute_result"
    }
   ],
   "source": [
    "A.stored_queried_ips[0]"
   ]
  },
  {
   "cell_type": "code",
   "execution_count": 13,
   "metadata": {},
   "outputs": [
    {
     "data": {
      "text/plain": [
       "[{'Location': 'Toronto, Ontario, Canada | Lat: 43.6532, Long: -79.3832',\n",
       "  'Organization': 'AS13335 Cloudflare, Inc., Cloudflare, Inc., Cloudflare, Inc.',\n",
       "  'IP': '162.159.134.234'},\n",
       " {'Location': 'Kansas City, Missouri, United States | Lat: 39.0997, Long: -94.5785',\n",
       "  'Organization': 'AS15169 Google LLC, Google Cloud, Google LLC',\n",
       "  'IP': '35.186.224.45'},\n",
       " {'Location': 'Stockholm, Stockholm, Sweden | Lat: 59.3293, Long: 18.0686',\n",
       "  'Organization': 'AS16509 Amazon.com, Inc., AWS EC2 (eu-north-1), Amazon.com, Inc.',\n",
       "  'IP': '51.21.215.65'}]"
      ]
     },
     "execution_count": 13,
     "metadata": {},
     "output_type": "execute_result"
    }
   ],
   "source": [
    "summarized=[]\n",
    "temp={}\n",
    "data=A.stored_queried_ips\n",
    "for query in data:\n",
    "    try:\n",
    "        temp={}\n",
    "        temp['Location']=f\"{query['city']}, {query['regionName']}, {query['country']} | Lat: {query['lat']}, Long: {query['lon']}\"\n",
    "        temp['Organization']=f\"{query['as']}, {query['org']}, {query['isp']}\"\n",
    "        temp['IP']=f\"{query['query']}\"\n",
    "        summarized.append(temp)\n",
    "    except:\n",
    "        temp={}\n",
    "summarized"
   ]
  },
  {
   "cell_type": "code",
   "execution_count": 20,
   "metadata": {},
   "outputs": [
    {
     "name": "stdout",
     "output_type": "stream",
     "text": [
      "162.159.134.234\n"
     ]
    }
   ],
   "source": [
    "processes=[]\n",
    "hops=30\n",
    "timeout=1000\n",
    "for summary in summarized[:1]:\n",
    "    print(summary[\"IP\"])\n",
    "    processes.append(subprocess.Popen([\"tracert\",\"-h\",str(hops),\"-w\",str(timeout),summary[\"IP\"]],stdout=subprocess.PIPE,text=True,shell=True))\n",
    "time.sleep(hops*timeout/1000)\n",
    "outputs=[]\n",
    "for process in processes:\n",
    "    outputs.append(process.stdout)"
   ]
  },
  {
   "cell_type": "code",
   "execution_count": 24,
   "metadata": {},
   "outputs": [],
   "source": [
    "for line in outputs[0]:\n",
    "    print(line.strip())"
   ]
  },
  {
   "cell_type": "code",
   "execution_count": 8,
   "metadata": {},
   "outputs": [],
   "source": [
    "# unique_ips=[]\n",
    "# temp=[]\n",
    "# ip=A.stored_unique_ips[1]\n",
    "# response=requests.get(f\"http://ip-api.com/json/{ip}\")\n",
    "# data=response.json()\n",
    "# temp.clear()\n",
    "# temp.append(ip)\n",
    "# temp.append(data)\n",
    "# unique_ips.append(temp)\n",
    "# unique_ips"
   ]
  }
 ],
 "metadata": {
  "kernelspec": {
   "display_name": "Python 3",
   "language": "python",
   "name": "python3"
  },
  "language_info": {
   "codemirror_mode": {
    "name": "ipython",
    "version": 3
   },
   "file_extension": ".py",
   "mimetype": "text/x-python",
   "name": "python",
   "nbconvert_exporter": "python",
   "pygments_lexer": "ipython3",
   "version": "3.13.2"
  }
 },
 "nbformat": 4,
 "nbformat_minor": 2
}
