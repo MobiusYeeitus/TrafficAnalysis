{
 "cells": [
  {
   "cell_type": "markdown",
   "metadata": {},
   "source": [
    "##### System Libraries"
   ]
  },
  {
   "cell_type": "code",
   "execution_count": 1,
   "metadata": {},
   "outputs": [],
   "source": [
    "import os\n",
    "import subprocess\n",
    "import logging\n",
    "import re\n",
    "import copy"
   ]
  },
  {
   "cell_type": "markdown",
   "metadata": {},
   "source": [
    "##### Required Libraries"
   ]
  },
  {
   "cell_type": "code",
   "execution_count": 2,
   "metadata": {},
   "outputs": [],
   "source": [
    "try:\n",
    "    import scapy\n",
    "except ModuleNotFoundError:\n",
    "    os.system('pip install scapy')\n",
    "    import scapy\n",
    "try:\n",
    "    import tqdm\n",
    "except ModuleNotFoundError:\n",
    "    os.system('pip install tqdm')\n",
    "    import tqdm\n",
    "from scapy.all import rdpcap\n",
    "from tqdm import trange,tqdm"
   ]
  },
  {
   "cell_type": "markdown",
   "metadata": {},
   "source": [
    "### Analyzer\n",
    "\n",
    "#### Minor Function Breakdowns\n",
    "---\n",
    "##### Generate_Logger\n",
    "Generates a logger with default parameters for logging critical components and debugging\n",
    "##### Generate Self IPs\n",
    "Generates a list of IPs assigned to current device according to a protocol list.\n",
    "##### List Initializer [V2]\n",
    "Helper function to shorten and simplify initializing and re-initializing lists with values\n",
    "##### PCAP_Input\n",
    "Takes a pcap file as input and returns and stores it in memory\n",
    "##### Generate Unique IPs\n",
    "Generates a list of unique IPs found in the PCAP data (excluding self IPs)"
   ]
  },
  {
   "cell_type": "code",
   "execution_count": 3,
   "metadata": {},
   "outputs": [],
   "source": [
    "import scapy.plist\n",
    "\n",
    "\n",
    "class Analyzer:\n",
    "    if True:\n",
    "        #Initialization of the logger\n",
    "        logger=logging.getLogger\n",
    "        stored_logger_level=[logging.DEBUG]\n",
    "\n",
    "        stored_protocol_list=[\"IPv4\",\"IPv6\",\"Gateway\"]\n",
    "\n",
    "        stored_pcap_data=[]\n",
    "\n",
    "        stored_self_ips=[]\n",
    "        stored_unique_ips=[]\n",
    "        stored_blocked_ips=[]\n",
    "\n",
    "    def __init__(self,path,protocol_list=stored_protocol_list):\n",
    "        if True:\n",
    "            self.logger=self.Generate_Logger(filename='AnalysisCore.log')\n",
    "            self.Generate_Self_IPs(protocol_list=protocol_list)\n",
    "            self.PCAP_Input(path)\n",
    "            self.Generate_Unique_IPs()\n",
    "    def Generate_Logger(self,filename='default_logger_name.log'): \n",
    "        logging.basicConfig(filename=filename,format='%(asctime)s - %(levelname)s: %(message)s',\n",
    "                            datefmt='%Y-%m-%d %H:%M:%S',filemode='w',level=self.stored_logger_level[0])\n",
    "        logger=logging.getLogger()\n",
    "        logger.debug('Logger initialized.')\n",
    "        return logger\n",
    "    def List_Initializer(self,input_list,input_param):\n",
    "        if isinstance(input_param,list) or isinstance(input_param,scapy.plist.PacketList):\n",
    "            input_list.clear()\n",
    "            for item in input_param:\n",
    "                input_list.append(item)\n",
    "        else:\n",
    "            input_list.clear()\n",
    "            input_list.append(input_param)\n",
    "    def Generate_Self_IPs(self,protocol_list=stored_protocol_list):\n",
    "        self.logger.info(\"Generating self IPs with protocols, \"+str(protocol_list))\n",
    "        self_ips=[]\n",
    "        process=subprocess.Popen(['ipconfig'],stdout=subprocess.PIPE,text=True,shell=True)\n",
    "        for line in process.stdout:\n",
    "            for protocol in protocol_list:\n",
    "                if re.search(protocol,line.strip()):\n",
    "                    self_ips.append(line.strip()[line.strip().find(':')+2:])\n",
    "        self.List_Initializer(self.stored_self_ips,self_ips)\n",
    "        self.logger.debug('Stored self IPs in stored_self_ips '+str(self_ips))\n",
    "        return self_ips\n",
    "    def PCAP_Input(self,path):\n",
    "        self.logger.info('Reading file from path, '+path)\n",
    "        print('Reading PCAP Data.')\n",
    "        pcap_data=rdpcap(path)\n",
    "        self.logger.debug('Stored '+path+' data in stored_pcap_data.')\n",
    "        self.List_Initializer(self.stored_pcap_data,pcap_data)\n",
    "        return pcap_data\n",
    "    def Generate_Unique_IPs(self,pcap_data=stored_pcap_data,self_ips=stored_self_ips):\n",
    "        self.logger.info('Extracting Unique IPs from PCAP Data.')\n",
    "        unique_ips=[]\n",
    "        blocked_ips=self_ips.copy()\n",
    "        self.logger.debug(str(self_ips.copy()))\n",
    "        packets=pcap_data\n",
    "        for packet in tqdm(packets,desc='Analyzing packets for unique IPs'):\n",
    "            flag=0\n",
    "            try:\n",
    "                for ip in blocked_ips:\n",
    "                    if packet.payload.dst==ip:\n",
    "                        flag=1\n",
    "                if flag==0:\n",
    "                    blocked_ips.append(packet.payload.dst)\n",
    "                    unique_ips.append(packet.payload.dst)\n",
    "            except AttributeError:\n",
    "                broadcast_temp='256.256.256.256'\n",
    "                for ip in blocked_ips:\n",
    "                    if ip==broadcast_temp:\n",
    "                        flag=1\n",
    "                if flag==0:\n",
    "                    blocked_ips.append(broadcast_temp)\n",
    "                    unique_ips.append(broadcast_temp)\n",
    "        self.List_Initializer(self.stored_unique_ips,unique_ips)\n",
    "        self.logger.debug('Stored unique IPs in stored_unique_ips.')\n",
    "        return unique_ips"
   ]
  },
  {
   "cell_type": "code",
   "execution_count": 7,
   "metadata": {},
   "outputs": [
    {
     "name": "stdout",
     "output_type": "stream",
     "text": [
      "Reading PCAP Data.\n"
     ]
    },
    {
     "name": "stderr",
     "output_type": "stream",
     "text": [
      "Analyzing packets for unique IPs: 100%|██████████| 10839/10839 [00:00<00:00, 27490.83it/s]\n"
     ]
    }
   ],
   "source": [
    "A=Analyzer('PCAP Data/720S-Down-Spo-Misc-Idling.pcap')"
   ]
  },
  {
   "cell_type": "code",
   "execution_count": 8,
   "metadata": {},
   "outputs": [
    {
     "data": {
      "text/plain": [
       "64"
      ]
     },
     "execution_count": 8,
     "metadata": {},
     "output_type": "execute_result"
    }
   ],
   "source": [
    "len(A.stored_unique_ips)"
   ]
  }
 ],
 "metadata": {
  "kernelspec": {
   "display_name": "Python 3",
   "language": "python",
   "name": "python3"
  },
  "language_info": {
   "codemirror_mode": {
    "name": "ipython",
    "version": 3
   },
   "file_extension": ".py",
   "mimetype": "text/x-python",
   "name": "python",
   "nbconvert_exporter": "python",
   "pygments_lexer": "ipython3",
   "version": "3.13.2"
  }
 },
 "nbformat": 4,
 "nbformat_minor": 2
}
